{
 "cells": [
  {
   "cell_type": "code",
   "execution_count": 6,
   "metadata": {
    "scrolled": false
   },
   "outputs": [],
   "source": [
    "import os\n",
    "import glob\n",
    "\n",
    "train_positive_path = '../Sentiment_Analysis/aclImdb/train/pos/'\n",
    "train_negative_path = '../Sentiment_Analysis/aclImdb/train/neg/'\n",
    "test_positive_path = '../Sentiment_Analysis/aclImdb/test/pos/'\n",
    "test_negative_path = '../Sentiment_Analysis/aclImdb/test/neg/'\n",
    "\n",
    "def read_files_in_path(path):\n",
    "    positive_training_data=[]\n",
    "    for filepath in glob.glob(os.path.join(path, '*.txt')):\n",
    "        with open(filepath,encoding='utf8') as f:\n",
    "            content = f.read()\n",
    "            positive_training_data.append(content)\n",
    "    return positive_training_data\n",
    "\n",
    "positive_training_data = read_files_in_path(train_positive_path)\n"
   ]
  },
  {
   "cell_type": "code",
   "execution_count": 7,
   "metadata": {
    "scrolled": true
   },
   "outputs": [
    {
     "data": {
      "text/plain": [
       "12500"
      ]
     },
     "execution_count": 7,
     "metadata": {},
     "output_type": "execute_result"
    }
   ],
   "source": [
    "len(positive_training_data)"
   ]
  },
  {
   "cell_type": "code",
   "execution_count": 8,
   "metadata": {},
   "outputs": [
    {
     "data": {
      "text/plain": [
       "12500"
      ]
     },
     "execution_count": 8,
     "metadata": {},
     "output_type": "execute_result"
    }
   ],
   "source": [
    "negative_training_data = read_files_in_path(train_negative_path)\n",
    "len(negative_training_data)"
   ]
  },
  {
   "cell_type": "code",
   "execution_count": 9,
   "metadata": {},
   "outputs": [
    {
     "data": {
      "text/plain": [
       "25000"
      ]
     },
     "execution_count": 9,
     "metadata": {},
     "output_type": "execute_result"
    }
   ],
   "source": [
    "whole_training_data = positive_training_data+negative_training_data\n",
    "len(whole_training_data)"
   ]
  },
  {
   "cell_type": "code",
   "execution_count": 17,
   "metadata": {
    "scrolled": true
   },
   "outputs": [
    {
     "name": "stdout",
     "output_type": "stream",
     "text": [
      "[[0 0 0 ... 0 0 0]\n",
      " [0 0 0 ... 0 0 0]\n",
      " [0 0 0 ... 0 0 0]\n",
      " ...\n",
      " [0 0 0 ... 0 0 0]\n",
      " [0 1 0 ... 0 0 0]\n",
      " [0 0 0 ... 0 0 0]]\n"
     ]
    }
   ],
   "source": [
    "# import re\n",
    "# import numpy\n",
    "\n",
    "# def word_extraction(sentence):\n",
    "#     ignore = ['a', \"the\", \"is\",]\n",
    "#     words = re.sub(\"[^\\W]\", \" \",  sentence).split()\n",
    "#     cleaned_text = [w.lower() for w in words if w not in ignore]\n",
    "#     return cleaned_text\n",
    "\n",
    "# def tokenize(sentences):    \n",
    "#     words = []    \n",
    "#     for sentence in sentences:        \n",
    "#         w = word_extraction(sentence)        \n",
    "#         words.extend(w)            \n",
    "#     words = sorted(list(set(words)))    \n",
    "#     return words\n",
    "\n",
    "# def generate_bow(allsentences):    \n",
    "#     vocab = tokenize(allsentences)\n",
    "#     all_bag_vector = list\n",
    "#     for sentence in allsentences:\n",
    "#         words = word_extraction(sentence)\n",
    "#         bag_vector = numpy.zeros(len(vocab))\n",
    "#         for w in words:\n",
    "#             for i,word in enumerate(vocab):\n",
    "#                 if word == w: \n",
    "#                     bag_vector[i] += 1\n",
    "#         all_bag_vector.append(list(bag_vector))\n",
    "#     return all_bag_vector\n",
    "# bag_of_words = generate_bow(whole_training_data)\n",
    "# print(bag_of_words)\n",
    "\n",
    "from sklearn.feature_extraction.text import CountVectorizer\n",
    "vectorizer = CountVectorizer()\n",
    "X = vectorizer.fit_transform(whole_training_data)\n",
    "print(X.toarray())\n"
   ]
  },
  {
   "cell_type": "code",
   "execution_count": null,
   "metadata": {},
   "outputs": [],
   "source": []
  }
 ],
 "metadata": {
  "kernelspec": {
   "display_name": "Python 3",
   "language": "python",
   "name": "python3"
  },
  "language_info": {
   "codemirror_mode": {
    "name": "ipython",
    "version": 3
   },
   "file_extension": ".py",
   "mimetype": "text/x-python",
   "name": "python",
   "nbconvert_exporter": "python",
   "pygments_lexer": "ipython3",
   "version": "3.7.4"
  }
 },
 "nbformat": 4,
 "nbformat_minor": 2
}
