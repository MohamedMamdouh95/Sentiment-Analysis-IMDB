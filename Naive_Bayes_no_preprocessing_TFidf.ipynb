{
 "cells": [
  {
   "cell_type": "code",
   "execution_count": 1,
   "metadata": {},
   "outputs": [
    {
     "name": "stdout",
     "output_type": "stream",
     "text": [
      "12500\n",
      "12500\n",
      "25000\n",
      "12500\n",
      "12500\n",
      "25000\n"
     ]
    }
   ],
   "source": [
    "import os\n",
    "import glob\n",
    "import numpy as np\n",
    "from warnings import simplefilter\n",
    "import nltk\n",
    "\n",
    "simplefilter(action='ignore', category=FutureWarning)\n",
    "\n",
    "train_positive_path = '../Sentiment_Analysis/aclImdb/train/pos/'\n",
    "train_negative_path = '../Sentiment_Analysis/aclImdb/train/neg/'\n",
    "test_positive_path = '../Sentiment_Analysis/aclImdb/test/pos/'\n",
    "test_negative_path = '../Sentiment_Analysis/aclImdb/test/neg/'\n",
    "\n",
    "def read_files_in_path(path):\n",
    "    positive_training_data=[]\n",
    "    for filepath in glob.glob(os.path.join(path, '*.txt')):\n",
    "        with open(filepath,encoding='utf8') as f:\n",
    "            content = f.read()\n",
    "            positive_training_data.append(content)\n",
    "    return positive_training_data\n",
    "\n",
    "#Read training data\n",
    "positive_training_data = read_files_in_path(train_positive_path)\n",
    "print(len(positive_training_data))\n",
    "negative_training_data = read_files_in_path(train_negative_path)\n",
    "print(len(negative_training_data))\n",
    "whole_training_data = positive_training_data+negative_training_data\n",
    "print(len(whole_training_data))\n",
    "\n",
    "#Reading Test Data\n",
    "positive_test_data = read_files_in_path(test_positive_path)\n",
    "print(len(positive_test_data))\n",
    "negative_test_data = read_files_in_path(test_negative_path)\n",
    "print(len(negative_test_data))\n",
    "whole_test_data = positive_test_data+negative_test_data\n",
    "print(len(whole_test_data))"
   ]
  },
  {
   "cell_type": "code",
   "execution_count": 2,
   "metadata": {},
   "outputs": [],
   "source": [
    "#create labels for the training data and test data first 12500 are positive and the remaining 12500 are negative\n",
    "train_labels = np.asarray([1]*len(positive_training_data) + [0]*len(negative_training_data))\n",
    "test_labels = np.asarray([1]*len(positive_test_data) + [0]*len(negative_test_data))\n",
    "\n",
    "import random\n",
    "\n",
    "#randomize training data\n",
    "z = list(zip(whole_training_data, train_labels))\n",
    "random.shuffle(z)\n",
    "random_training_data, random_train_labels = zip(*z)\n",
    "\n",
    "#Apply feature extraction: Term Frequency inverse document frequency vectorizer \n",
    "from sklearn.feature_extraction.text import TfidfVectorizer\n",
    "import itertools\n",
    "vectorizer = TfidfVectorizer(stop_words='english',ngram_range=(1,3))\n",
    "train_vector = vectorizer.fit_transform(random_training_data)\n",
    "test_vector = vectorizer.transform(whole_test_data)\n",
    "#printing some visualization of the sizes of the train and test vectors \n",
    "#print(train_labels.shape)\n",
    "#train_vector has 25000 row corresponding to the 25000 review and 74849 feature extracted\n",
    "#print(train_vector.shape)\n",
    "\n",
    "#print shapes of test vector and label\n",
    "\n",
    "# print(test_labels.shape)\n",
    "# print(test_vector.shape)\n",
    "\n",
    "#some visualization for th labels arrays\n",
    "# print(random_train_labels)\n",
    "# print(test_labels)"
   ]
  },
  {
   "cell_type": "code",
   "execution_count": 4,
   "metadata": {},
   "outputs": [
    {
     "name": "stdout",
     "output_type": "stream",
     "text": [
      "Naive Bayes with no text preprocessing & using TFidf classification accuracy:\n",
      " 85.32 %\n"
     ]
    }
   ],
   "source": [
    "from sklearn.naive_bayes import MultinomialNB\n",
    "gnb = MultinomialNB(alpha=3.0)\n",
    "gnb.fit(train_vector, random_train_labels)\n",
    "print(\"Naive Bayes with no text preprocessing & using TFidf classification accuracy:\\n\",gnb.score(test_vector,test_labels)*100,\"%\")"
   ]
  },
  {
   "cell_type": "code",
   "execution_count": null,
   "metadata": {},
   "outputs": [],
   "source": []
  }
 ],
 "metadata": {
  "kernelspec": {
   "display_name": "Python 3",
   "language": "python",
   "name": "python3"
  },
  "language_info": {
   "codemirror_mode": {
    "name": "ipython",
    "version": 3
   },
   "file_extension": ".py",
   "mimetype": "text/x-python",
   "name": "python",
   "nbconvert_exporter": "python",
   "pygments_lexer": "ipython3",
   "version": "3.7.4"
  }
 },
 "nbformat": 4,
 "nbformat_minor": 2
}
